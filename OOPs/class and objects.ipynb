{
 "cells": [
  {
   "cell_type": "code",
   "execution_count": 1,
   "id": "3c74f57d",
   "metadata": {},
   "outputs": [
    {
     "data": {
      "text/plain": [
       "101"
      ]
     },
     "execution_count": 1,
     "metadata": {},
     "output_type": "execute_result"
    }
   ],
   "source": [
    "def f1():\n",
    "    x=100\n",
    "    return x\n",
    "x=f1()+1\n",
    "x"
   ]
  },
  {
   "cell_type": "markdown",
   "id": "a7a9cd38",
   "metadata": {},
   "source": [
    "## OOPs"
   ]
  },
  {
   "cell_type": "raw",
   "id": "d715090f",
   "metadata": {},
   "source": [
    "Class --> blueprint of objects\n",
    "function in class called as method\n",
    "whenever u need to call class give it to a object then after call variable or function with object.variable or object.function"
   ]
  },
  {
   "cell_type": "raw",
   "id": "6b83b1fa",
   "metadata": {},
   "source": [
    "*  __init__ --> python constructor is defined by init\n",
    "* python dont have multiple constructor (NO Constructor Overloading)\n",
    "* class is keyword to create class\n",
    "///////"
   ]
  },
  {
   "cell_type": "code",
   "execution_count": 3,
   "id": "a3046259",
   "metadata": {},
   "outputs": [
    {
     "data": {
      "text/plain": [
       "'hi'"
      ]
     },
     "execution_count": 3,
     "metadata": {},
     "output_type": "execute_result"
    }
   ],
   "source": [
    "## For example\n",
    "class harsha:\n",
    "    name='hi'\n",
    "obj=harsha()\n",
    "obj.name\n",
    "\n",
    "# or \n",
    "\n",
    "## For example\n",
    "class harsha:\n",
    "    name='hi'\n",
    "harsha.name"
   ]
  },
  {
   "cell_type": "code",
   "execution_count": 9,
   "id": "747b3c91",
   "metadata": {},
   "outputs": [
    {
     "name": "stdout",
     "output_type": "stream",
     "text": [
      "This is class\n"
     ]
    }
   ],
   "source": [
    "class Harsha:\n",
    "    print(\"This is class\")"
   ]
  },
  {
   "cell_type": "code",
   "execution_count": null,
   "id": "06512675",
   "metadata": {},
   "outputs": [],
   "source": [
    "def display():\n",
    "    a=10\n",
    "    b=20\n",
    "    print(a,b)\n",
    "display()"
   ]
  },
  {
   "cell_type": "code",
   "execution_count": 16,
   "id": "6eca566e",
   "metadata": {},
   "outputs": [
    {
     "name": "stdout",
     "output_type": "stream",
     "text": [
      "This is class\n"
     ]
    },
    {
     "ename": "TypeError",
     "evalue": "display() missing 1 required positional argument: 'self'",
     "output_type": "error",
     "traceback": [
      "\u001b[1;31m---------------------------------------------------------------------------\u001b[0m",
      "\u001b[1;31mTypeError\u001b[0m                                 Traceback (most recent call last)",
      "\u001b[1;32m~\\AppData\\Local\\Temp/ipykernel_11056/1463849116.py\u001b[0m in \u001b[0;36m<module>\u001b[1;34m\u001b[0m\n\u001b[1;32m----> 1\u001b[1;33m \u001b[1;32mclass\u001b[0m \u001b[0mHarsha\u001b[0m\u001b[1;33m:\u001b[0m\u001b[1;33m\u001b[0m\u001b[1;33m\u001b[0m\u001b[0m\n\u001b[0m\u001b[0;32m      2\u001b[0m     \u001b[0mprint\u001b[0m\u001b[1;33m(\u001b[0m\u001b[1;34m\"This is class\"\u001b[0m\u001b[1;33m)\u001b[0m\u001b[1;33m\u001b[0m\u001b[1;33m\u001b[0m\u001b[0m\n\u001b[0;32m      3\u001b[0m     \u001b[1;32mdef\u001b[0m \u001b[0mdisplay\u001b[0m\u001b[1;33m(\u001b[0m\u001b[0mself\u001b[0m\u001b[1;33m)\u001b[0m\u001b[1;33m:\u001b[0m\u001b[1;33m\u001b[0m\u001b[1;33m\u001b[0m\u001b[0m\n\u001b[0;32m      4\u001b[0m         \u001b[0ma\u001b[0m\u001b[1;33m=\u001b[0m\u001b[1;36m10\u001b[0m\u001b[1;33m\u001b[0m\u001b[1;33m\u001b[0m\u001b[0m\n\u001b[0;32m      5\u001b[0m         \u001b[0mb\u001b[0m\u001b[1;33m=\u001b[0m\u001b[1;36m20\u001b[0m\u001b[1;33m\u001b[0m\u001b[1;33m\u001b[0m\u001b[0m\n",
      "\u001b[1;32m~\\AppData\\Local\\Temp/ipykernel_11056/1463849116.py\u001b[0m in \u001b[0;36mHarsha\u001b[1;34m()\u001b[0m\n\u001b[0;32m      5\u001b[0m         \u001b[0mb\u001b[0m\u001b[1;33m=\u001b[0m\u001b[1;36m20\u001b[0m\u001b[1;33m\u001b[0m\u001b[1;33m\u001b[0m\u001b[0m\n\u001b[0;32m      6\u001b[0m         \u001b[0mprint\u001b[0m\u001b[1;33m(\u001b[0m\u001b[0ma\u001b[0m\u001b[1;33m,\u001b[0m\u001b[0mb\u001b[0m\u001b[1;33m)\u001b[0m\u001b[1;33m\u001b[0m\u001b[1;33m\u001b[0m\u001b[0m\n\u001b[1;32m----> 7\u001b[1;33m     \u001b[0mdisplay\u001b[0m\u001b[1;33m(\u001b[0m\u001b[1;33m)\u001b[0m\u001b[1;33m\u001b[0m\u001b[1;33m\u001b[0m\u001b[0m\n\u001b[0m",
      "\u001b[1;31mTypeError\u001b[0m: display() missing 1 required positional argument: 'self'"
     ]
    }
   ],
   "source": [
    "class Harsha:\n",
    "    print(\"This is class\")\n",
    "    def display(self):\n",
    "        a=10\n",
    "        b=20\n",
    "        print(a,b)\n",
    "#     display() error asking for self ---?"
   ]
  },
  {
   "cell_type": "code",
   "execution_count": 2,
   "id": "10aabbeb",
   "metadata": {},
   "outputs": [
    {
     "name": "stdout",
     "output_type": "stream",
     "text": [
      "This is class\n"
     ]
    },
    {
     "ename": "NameError",
     "evalue": "name 'self' is not defined",
     "output_type": "error",
     "traceback": [
      "\u001b[1;31m---------------------------------------------------------------------------\u001b[0m",
      "\u001b[1;31mNameError\u001b[0m                                 Traceback (most recent call last)",
      "\u001b[1;32m~\\AppData\\Local\\Temp/ipykernel_9052/2824719918.py\u001b[0m in \u001b[0;36m<module>\u001b[1;34m\u001b[0m\n\u001b[1;32m----> 1\u001b[1;33m \u001b[1;32mclass\u001b[0m \u001b[0mHarsha\u001b[0m\u001b[1;33m:\u001b[0m\u001b[1;33m\u001b[0m\u001b[1;33m\u001b[0m\u001b[0m\n\u001b[0m\u001b[0;32m      2\u001b[0m     \u001b[0mprint\u001b[0m\u001b[1;33m(\u001b[0m\u001b[1;34m\"This is class\"\u001b[0m\u001b[1;33m)\u001b[0m\u001b[1;33m\u001b[0m\u001b[1;33m\u001b[0m\u001b[0m\n\u001b[0;32m      3\u001b[0m     \u001b[1;32mdef\u001b[0m \u001b[0mdisplay\u001b[0m\u001b[1;33m(\u001b[0m\u001b[0mself\u001b[0m\u001b[1;33m)\u001b[0m\u001b[1;33m:\u001b[0m\u001b[1;33m\u001b[0m\u001b[1;33m\u001b[0m\u001b[0m\n\u001b[0;32m      4\u001b[0m         \u001b[0ma\u001b[0m\u001b[1;33m=\u001b[0m\u001b[1;36m10\u001b[0m\u001b[1;33m\u001b[0m\u001b[1;33m\u001b[0m\u001b[0m\n\u001b[0;32m      5\u001b[0m         \u001b[0mb\u001b[0m\u001b[1;33m=\u001b[0m\u001b[1;36m20\u001b[0m\u001b[1;33m\u001b[0m\u001b[1;33m\u001b[0m\u001b[0m\n",
      "\u001b[1;32m~\\AppData\\Local\\Temp/ipykernel_9052/2824719918.py\u001b[0m in \u001b[0;36mHarsha\u001b[1;34m()\u001b[0m\n\u001b[0;32m      5\u001b[0m         \u001b[0mb\u001b[0m\u001b[1;33m=\u001b[0m\u001b[1;36m20\u001b[0m\u001b[1;33m\u001b[0m\u001b[1;33m\u001b[0m\u001b[0m\n\u001b[0;32m      6\u001b[0m         \u001b[0mprint\u001b[0m\u001b[1;33m(\u001b[0m\u001b[0ma\u001b[0m\u001b[1;33m,\u001b[0m\u001b[0mb\u001b[0m\u001b[1;33m)\u001b[0m\u001b[1;33m\u001b[0m\u001b[1;33m\u001b[0m\u001b[0m\n\u001b[1;32m----> 7\u001b[1;33m     \u001b[0mdisplay\u001b[0m\u001b[1;33m(\u001b[0m\u001b[0mself\u001b[0m\u001b[1;33m)\u001b[0m \u001b[1;31m# self is not defined\u001b[0m\u001b[1;33m\u001b[0m\u001b[1;33m\u001b[0m\u001b[0m\n\u001b[0m",
      "\u001b[1;31mNameError\u001b[0m: name 'self' is not defined"
     ]
    }
   ],
   "source": [
    "class Harsha:\n",
    "    print(\"This is class\")\n",
    "    def display(self):\n",
    "        a=10\n",
    "        b=20\n",
    "        print(a,b)\n",
    "    display(self) # self is not defined"
   ]
  },
  {
   "cell_type": "code",
   "execution_count": 20,
   "id": "8ed3896a",
   "metadata": {},
   "outputs": [
    {
     "name": "stdout",
     "output_type": "stream",
     "text": [
      "This is class\n",
      "10 20\n"
     ]
    }
   ],
   "source": [
    "class Harsha:\n",
    "    print(\"This is class\")\n",
    "    def display(self):\n",
    "        a=10\n",
    "        b=20\n",
    "        print(a,b)\n",
    "obj=Harsha()\n",
    "obj.display() #for method"
   ]
  },
  {
   "cell_type": "code",
   "execution_count": 2,
   "id": "2434f8a1",
   "metadata": {},
   "outputs": [
    {
     "name": "stdout",
     "output_type": "stream",
     "text": [
      "This is class\n",
      "10 20\n",
      "15\n"
     ]
    }
   ],
   "source": [
    "class Harsha:\n",
    "    d=15\n",
    "    print(\"This is class\")\n",
    "    def display(self):\n",
    "        a=10\n",
    "        b=20\n",
    "        print(a,b)\n",
    "obj=Harsha() #-->giving class to object or creating object\n",
    "obj.display()\n",
    "print(obj.d) # for variable"
   ]
  },
  {
   "cell_type": "markdown",
   "id": "190b3d95",
   "metadata": {},
   "source": [
    "###         __init__    --> initialize v\n",
    "\n",
    "(constructor [__init__])"
   ]
  },
  {
   "cell_type": "markdown",
   "id": "4b482337",
   "metadata": {},
   "source": [
    "init for variable initiallization\n",
    "\n",
    "if we want to call in other function self keyword helps, and takes an argument."
   ]
  },
  {
   "cell_type": "code",
   "execution_count": 22,
   "id": "659f4e05",
   "metadata": {},
   "outputs": [
    {
     "ename": "SyntaxError",
     "evalue": "invalid syntax (Temp/ipykernel_11056/1565045109.py, line 9)",
     "output_type": "error",
     "traceback": [
      "\u001b[1;36m  File \u001b[1;32m\"C:\\Users\\DELL\\AppData\\Local\\Temp/ipykernel_11056/1565045109.py\"\u001b[1;36m, line \u001b[1;32m9\u001b[0m\n\u001b[1;33m    print(\"Brand:\" Brand)\u001b[0m\n\u001b[1;37m                   ^\u001b[0m\n\u001b[1;31mSyntaxError\u001b[0m\u001b[1;31m:\u001b[0m invalid syntax\n"
     ]
    }
   ],
   "source": [
    "class Mobile:\n",
    "    def __init__(self,Brand,battery,ram,camera,price):\n",
    "        self.Brand=Brand\n",
    "        self.battery=battery\n",
    "        self.ram=ram\n",
    "        self.camera=camera\n",
    "        self.price=price\n",
    "    def display(self):\n",
    "        print(\"Brand:\" Brand)\n",
    "        print(\"battery:\" battery)\n",
    "        print(\"ram:\" ram)\n",
    "        print(\"camera:\" camera)\n",
    "        print(\"price:\" price)\n",
    "obj=Mobile(\"apple\",\"4000mah\",\"8gb\",\"40mp\",\"100000/-\")\n",
    "obj.display()"
   ]
  },
  {
   "cell_type": "code",
   "execution_count": 6,
   "id": "c2710769",
   "metadata": {},
   "outputs": [
    {
     "name": "stdout",
     "output_type": "stream",
     "text": [
      "Brand: apple\n",
      "battery: 4000mah\n",
      "ram: 8gb\n",
      "camera: 40mp\n",
      "price: 100000/-\n"
     ]
    }
   ],
   "source": [
    "class Mobile:\n",
    "    def __init__(self,Brand,battery,ram,camera,price):\n",
    "        self.Brand=Brand\n",
    "        self.battery=battery\n",
    "        self.ram=ram\n",
    "        self.camera=camera\n",
    "        self.price=price\n",
    "    def display(self):\n",
    "        print(\"Brand:\",self.Brand)\n",
    "        print(\"battery:\",self.battery)\n",
    "        print(\"ram:\",self.ram)\n",
    "        print(\"camera:\",self.camera)\n",
    "        print(\"price:\",self.price)\n",
    "obj=Mobile(\"apple\",\"4000mah\",\"8gb\",\"40mp\",\"100000/-\")\n",
    "obj.display()"
   ]
  },
  {
   "cell_type": "code",
   "execution_count": 2,
   "id": "034a7386",
   "metadata": {},
   "outputs": [
    {
     "name": "stdout",
     "output_type": "stream",
     "text": [
      "Brand: apple\n",
      "battery: 4000mah\n",
      "ram: 8gb\n",
      "camera: 40mp\n",
      "price: 100000/-\n",
      "Brand: apple\n",
      "battery: 4000mah\n",
      "ram: 8gb\n",
      "camera: 40mp\n",
      "price: 100000/-\n",
      "Brand: apple\n",
      "battery: 4000mah\n",
      "ram: 8gb\n",
      "camera: 40mp\n",
      "price: 100000/-\n",
      "Brand: apple\n",
      "battery: 4000mah\n",
      "ram: 8gb\n",
      "camera: 40mp\n",
      "price: 100000/-\n",
      "Brand: apple\n",
      "battery: 4000mah\n",
      "ram: 8gb\n",
      "camera: 40mp\n",
      "price: 100000/-\n"
     ]
    }
   ],
   "source": [
    "## for multiple outputs:\n",
    "\n",
    "class Mobile:\n",
    "    def __init__(self,Brand,battery,ram,camera,price):\n",
    "        self.Brand=Brand\n",
    "        self.battery=battery\n",
    "        self.ram=ram\n",
    "        self.camera=camera\n",
    "        self.price=price\n",
    "    def display(self):\n",
    "        print(\"Brand:\",self.Brand)\n",
    "        print(\"battery:\",self.battery)\n",
    "        print(\"ram:\",self.ram)\n",
    "        print(\"camera:\",self.camera)\n",
    "        print(\"price:\",self.price)\n",
    "for i in range(5):\n",
    "    obj=Mobile(\"apple\",\"4000mah\",\"8gb\",\"40mp\",\"100000/-\")\n",
    "    obj.display()"
   ]
  },
  {
   "cell_type": "markdown",
   "id": "c026ed02",
   "metadata": {},
   "source": [
    "### multiple objects in class\n",
    "    can create multiple objects\n",
    "    "
   ]
  },
  {
   "cell_type": "code",
   "execution_count": 4,
   "id": "a41289ee",
   "metadata": {},
   "outputs": [
    {
     "name": "stdout",
     "output_type": "stream",
     "text": [
      "Brand: apple\n",
      "battery: 4000mah\n",
      "ram: 8gb\n",
      "camera: 40mp\n",
      "price: 100000/-\n",
      "Brand: op\n",
      "battery: 4000mah\n",
      "ram: 8gb\n",
      "camera: 40mp\n",
      "price: 100000/-\n"
     ]
    }
   ],
   "source": [
    "class Mobile:\n",
    "    def __init__(self,Brand,battery,ram,camera,price):\n",
    "        self.Brand=Brand\n",
    "        self.battery=battery\n",
    "        self.ram=ram\n",
    "        self.camera=camera\n",
    "        self.price=price\n",
    "    def display(self):\n",
    "        print(\"Brand:\",self.Brand)\n",
    "        print(\"battery:\",self.battery)\n",
    "        print(\"ram:\",self.ram)\n",
    "        print(\"camera:\",self.camera)\n",
    "        print(\"price:\",self.price)\n",
    "obj=Mobile(\"apple\",\"4000mah\",\"8gb\",\"40mp\",\"100000/-\")\n",
    "obj.display()\n",
    "\n",
    "obj1=Mobile(\"op\",\"4000mah\",\"8gb\",\"40mp\",\"100000/-\")\n",
    "obj1.display()"
   ]
  },
  {
   "cell_type": "markdown",
   "id": "f6557420",
   "metadata": {},
   "source": [
    "### 1"
   ]
  },
  {
   "cell_type": "raw",
   "id": "b2d207b0",
   "metadata": {},
   "source": [
    "## (__init__) excecutes even without calling."
   ]
  },
  {
   "cell_type": "code",
   "execution_count": 1,
   "id": "e9b57635",
   "metadata": {},
   "outputs": [
    {
     "name": "stdout",
     "output_type": "stream",
     "text": [
      "This is init\n"
     ]
    }
   ],
   "source": [
    "class Mobile:\n",
    "    def __init__(self):\n",
    "        print(\"This is init\")\n",
    "    def display(self):\n",
    "        print(\"this is method\")\n",
    "obj = Mobile() # after creating object constructor executes without calling this is init..\n",
    "## init executes after creating object without calling\n"
   ]
  },
  {
   "cell_type": "code",
   "execution_count": 8,
   "id": "418eb51a",
   "metadata": {},
   "outputs": [
    {
     "name": "stdout",
     "output_type": "stream",
     "text": [
      "This is init\n",
      "this is method\n"
     ]
    }
   ],
   "source": [
    "class Mobile:\n",
    "    def __init__(self):\n",
    "        print(\"This is init\")\n",
    "    def display(self):\n",
    "        print(\"this is method\")\n",
    "obj=Mobile()\n",
    "obj.display() # method executes only after calling."
   ]
  },
  {
   "cell_type": "code",
   "execution_count": null,
   "id": "f4a421eb",
   "metadata": {},
   "outputs": [],
   "source": []
  },
  {
   "cell_type": "code",
   "execution_count": 14,
   "id": "158b5761",
   "metadata": {},
   "outputs": [
    {
     "name": "stdout",
     "output_type": "stream",
     "text": [
      "H\n",
      "  a\n",
      "    r\n",
      "      s\n",
      "        h\n",
      "          a\n"
     ]
    }
   ],
   "source": [
    "x= \"Harsha\"\n",
    "i=0\n",
    "for j in x:\n",
    "    print(\" \"*i+j)\n",
    "    i=i+2"
   ]
  },
  {
   "cell_type": "code",
   "execution_count": 8,
   "id": "3d2f513b",
   "metadata": {},
   "outputs": [
    {
     "name": "stdout",
     "output_type": "stream",
     "text": [
      "H\n",
      "a\n",
      "r\n",
      "s\n",
      "h\n",
      "a\n"
     ]
    }
   ],
   "source": [
    "for i in x:\n",
    "    print(i)"
   ]
  },
  {
   "cell_type": "code",
   "execution_count": 7,
   "id": "06fef61a",
   "metadata": {},
   "outputs": [
    {
     "name": "stdout",
     "output_type": "stream",
     "text": [
      "40\n"
     ]
    }
   ],
   "source": [
    "class Values():\n",
    "    def __init__(self, x = 0, y=0):\n",
    "        self.x_value = x\n",
    "        self.y_value = y\n",
    "\n",
    "class Add(Values):\n",
    "    def __init__(self, x = 0, y=0):\n",
    "        Values.__init__(self, x, y)\n",
    "\n",
    "    def forward(self):\n",
    "        return (self.x_value + self.y_value)\n",
    "\n",
    "add = Add(x = 20, y=20)\n",
    "print (add.forward())"
   ]
  },
  {
   "cell_type": "code",
   "execution_count": null,
   "id": "d71b22f3",
   "metadata": {},
   "outputs": [],
   "source": []
  }
 ],
 "metadata": {
  "kernelspec": {
   "display_name": "Python 3 (ipykernel)",
   "language": "python",
   "name": "python3"
  },
  "language_info": {
   "codemirror_mode": {
    "name": "ipython",
    "version": 3
   },
   "file_extension": ".py",
   "mimetype": "text/x-python",
   "name": "python",
   "nbconvert_exporter": "python",
   "pygments_lexer": "ipython3",
   "version": "3.9.12"
  },
  "toc": {
   "base_numbering": 1,
   "nav_menu": {},
   "number_sections": true,
   "sideBar": true,
   "skip_h1_title": false,
   "title_cell": "Table of Contents",
   "title_sidebar": "Contents",
   "toc_cell": false,
   "toc_position": {},
   "toc_section_display": true,
   "toc_window_display": false
  }
 },
 "nbformat": 4,
 "nbformat_minor": 5
}
