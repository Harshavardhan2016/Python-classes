{
 "cells": [
  {
   "cell_type": "code",
   "execution_count": null,
   "id": "a952704e",
   "metadata": {},
   "outputs": [],
   "source": [
    "def fun(a,b):\n",
    "    if b>a:\n",
    "        return 1\n",
    "    a=a-1\n",
    "    b=b+1\n",
    "    print(a*b)\n",
    "    "
   ]
  },
  {
   "cell_type": "code",
   "execution_count": null,
   "id": "3f034fa5",
   "metadata": {},
   "outputs": [],
   "source": []
  },
  {
   "cell_type": "code",
   "execution_count": null,
   "id": "e5d3c933",
   "metadata": {},
   "outputs": [],
   "source": []
  },
  {
   "cell_type": "code",
   "execution_count": null,
   "id": "5434e5c5",
   "metadata": {},
   "outputs": [],
   "source": []
  },
  {
   "cell_type": "markdown",
   "id": "bdd560a7",
   "metadata": {},
   "source": [
    "## Polymorphism"
   ]
  },
  {
   "cell_type": "code",
   "execution_count": 1,
   "id": "cf7703c4",
   "metadata": {},
   "outputs": [],
   "source": [
    "# concept of oops\n",
    "# oops came from c++ then java to python, its not in c\n"
   ]
  },
  {
   "cell_type": "markdown",
   "id": "9f6d9a1c",
   "metadata": {},
   "source": [
    "#### mutiple forms or more than one form --> polymorphism"
   ]
  },
  {
   "cell_type": "raw",
   "id": "12dc13eb",
   "metadata": {},
   "source": [
    "## Types:\n",
    "\n",
    "1. Compile-time:\n",
    "    a. Method Over-loading\n",
    "\n",
    "a. Method Over-loading --> Same method name, within same class and different parameters \n",
    "\n",
    "## same class, same function names and different parameters\n",
    "\n",
    "\n",
    "2. Run-time or dynamic: (came from concept of inheritance)\n",
    "    a. Method Over-Riding\n",
    "    \n",
    "a. Method Over-Riding --> Different classes with same name, different parameters\n",
    "\n",
    "## diferent classes, same function different parameters."
   ]
  },
  {
   "cell_type": "code",
   "execution_count": null,
   "id": "281758f5",
   "metadata": {},
   "outputs": [],
   "source": []
  },
  {
   "cell_type": "markdown",
   "id": "42c21864",
   "metadata": {},
   "source": [
    "## Method Overloading"
   ]
  },
  {
   "cell_type": "raw",
   "id": "e474b134",
   "metadata": {},
   "source": [
    "same class\n",
    "same function or method names\n",
    "different parameters"
   ]
  },
  {
   "cell_type": "code",
   "execution_count": 2,
   "id": "ddc8a2bb",
   "metadata": {},
   "outputs": [
    {
     "ename": "TypeError",
     "evalue": "sum() missing 1 required positional argument: 'c'",
     "output_type": "error",
     "traceback": [
      "\u001b[1;31m---------------------------------------------------------------------------\u001b[0m",
      "\u001b[1;31mTypeError\u001b[0m                                 Traceback (most recent call last)",
      "\u001b[1;32m~\\AppData\\Local\\Temp/ipykernel_20512/419217238.py\u001b[0m in \u001b[0;36m<module>\u001b[1;34m\u001b[0m\n\u001b[0;32m      6\u001b[0m \u001b[1;33m\u001b[0m\u001b[0m\n\u001b[0;32m      7\u001b[0m \u001b[0mobj\u001b[0m\u001b[1;33m=\u001b[0m\u001b[0mA\u001b[0m\u001b[1;33m(\u001b[0m\u001b[1;33m)\u001b[0m\u001b[1;33m\u001b[0m\u001b[1;33m\u001b[0m\u001b[0m\n\u001b[1;32m----> 8\u001b[1;33m \u001b[0mprint\u001b[0m\u001b[1;33m(\u001b[0m\u001b[0mobj\u001b[0m\u001b[1;33m.\u001b[0m\u001b[0msum\u001b[0m\u001b[1;33m(\u001b[0m\u001b[1;36m1\u001b[0m\u001b[1;33m,\u001b[0m\u001b[1;36m2\u001b[0m\u001b[1;33m)\u001b[0m\u001b[1;33m)\u001b[0m\u001b[1;33m\u001b[0m\u001b[1;33m\u001b[0m\u001b[0m\n\u001b[0m",
      "\u001b[1;31mTypeError\u001b[0m: sum() missing 1 required positional argument: 'c'"
     ]
    }
   ],
   "source": [
    "class A:\n",
    "    def sum(self,a,b):\n",
    "        return a+b\n",
    "    def sum(self,a,b,c):\n",
    "        return a+b+c\n",
    "\n",
    "obj=A()\n",
    "print(obj.sum(1,2))"
   ]
  },
  {
   "cell_type": "code",
   "execution_count": 3,
   "id": "c89cc1fc",
   "metadata": {},
   "outputs": [
    {
     "name": "stdout",
     "output_type": "stream",
     "text": [
      "4\n"
     ]
    }
   ],
   "source": [
    "class A:\n",
    "    def sum(self,a,b):\n",
    "        return a+b\n",
    "    def sum(self,a,b,c=1): #as above is overloading should give some default value\n",
    "        return a+b+c\n",
    "\n",
    "obj=A()\n",
    "print(obj.sum(1,2))"
   ]
  },
  {
   "cell_type": "code",
   "execution_count": 4,
   "id": "e1796832",
   "metadata": {},
   "outputs": [
    {
     "name": "stdout",
     "output_type": "stream",
     "text": [
      "8\n"
     ]
    }
   ],
   "source": [
    "class A:\n",
    "    def sum(self,a,b):\n",
    "        return a+b\n",
    "    def sum(self,a,b,c=1): #as above is overloading should give some default value\n",
    "        return a+b+c\n",
    "\n",
    "obj=A()\n",
    "print(obj.sum(1,2,5))\n",
    "\n",
    "# we can overcome overloading by giving some default values."
   ]
  },
  {
   "cell_type": "code",
   "execution_count": null,
   "id": "b6fdb91e",
   "metadata": {},
   "outputs": [],
   "source": []
  },
  {
   "cell_type": "markdown",
   "id": "1e2b1f22",
   "metadata": {},
   "source": [
    "## Method Overriding"
   ]
  },
  {
   "cell_type": "raw",
   "id": "7551be74",
   "metadata": {},
   "source": [
    "different class\n",
    "same method or function\n",
    "different parameter"
   ]
  },
  {
   "cell_type": "code",
   "execution_count": 7,
   "id": "c1aa5dd5",
   "metadata": {},
   "outputs": [
    {
     "name": "stdout",
     "output_type": "stream",
     "text": [
      "This is class B\n"
     ]
    }
   ],
   "source": [
    "class A:\n",
    "    def display(self):\n",
    "        print(\"This is class A\")\n",
    "\n",
    "class B(A):\n",
    "    def display(self):\n",
    "        print(\"This is class B\")\n",
    "        \n",
    "obj=B()\n",
    "obj.display()  ## not displaying class A, what will we do ?"
   ]
  },
  {
   "cell_type": "code",
   "execution_count": 9,
   "id": "4c331ba9",
   "metadata": {},
   "outputs": [
    {
     "name": "stdout",
     "output_type": "stream",
     "text": [
      "This is class B\n",
      "This is class A\n"
     ]
    }
   ],
   "source": [
    "class A:\n",
    "    def display(self):\n",
    "        print(\"This is class A\")\n",
    "\n",
    "class B(A):\n",
    "    def display(self):\n",
    "        print(\"This is class B\")\n",
    "        super().display()  #to overcome overriding concept super() Keyword helps\n",
    "        \n",
    "obj=B()\n",
    "obj.display() "
   ]
  },
  {
   "cell_type": "code",
   "execution_count": null,
   "id": "6f9eadfa",
   "metadata": {},
   "outputs": [],
   "source": []
  }
 ],
 "metadata": {
  "kernelspec": {
   "display_name": "Python 3 (ipykernel)",
   "language": "python",
   "name": "python3"
  },
  "language_info": {
   "codemirror_mode": {
    "name": "ipython",
    "version": 3
   },
   "file_extension": ".py",
   "mimetype": "text/x-python",
   "name": "python",
   "nbconvert_exporter": "python",
   "pygments_lexer": "ipython3",
   "version": "3.9.12"
  },
  "toc": {
   "base_numbering": 1,
   "nav_menu": {},
   "number_sections": true,
   "sideBar": true,
   "skip_h1_title": false,
   "title_cell": "Table of Contents",
   "title_sidebar": "Contents",
   "toc_cell": false,
   "toc_position": {},
   "toc_section_display": true,
   "toc_window_display": true
  }
 },
 "nbformat": 4,
 "nbformat_minor": 5
}
