{
 "cells": [
  {
   "cell_type": "markdown",
   "id": "7cb6a76b",
   "metadata": {},
   "source": [
    "## Inheritance in python\n",
    " \n",
    " vamsaparamparyam telugu word\n",
    " \n",
    " \n",
    "  super keyword is also covered\n",
    "  \n",
    "   init is a constructor, and no constructor overloading in python, because init is only constructor."
   ]
  },
  {
   "cell_type": "raw",
   "id": "46c2e6ea",
   "metadata": {},
   "source": [
    "                    parents\n",
    "inheritance    (             ) parents property\n",
    "                    child\n",
    "                    \n",
    "                    \n",
    "                    \n",
    "if we declare functions or variables in parents we can inherit from parents(as a property)"
   ]
  },
  {
   "cell_type": "raw",
   "id": "137fc095",
   "metadata": {},
   "source": [
    "Types of inheritances:\n",
    "\n",
    "1. Single: parent to child (only single child)\n",
    "\n",
    "        class A\n",
    "            ^\n",
    "            |\n",
    "        class B\n",
    "        \n",
    "\n",
    "2. Multilevel: level by level (grandfather --> father --> son) #order of example parent-->child-->grandchild\n",
    "\n",
    "        class A\n",
    "            ^\n",
    "            |\n",
    "        class B\n",
    "            ^\n",
    "            |\n",
    "        class C\n",
    "\n",
    "\n",
    "3. Hierarichal: Two child classes from parent\n",
    "\n",
    "        class A\n",
    "         ^   ^\n",
    "        /     \\\n",
    "    class B   class C\n",
    "\n",
    "\n",
    "4. Multiple: Two parents classes and single child class derived. (effective in python than java)\n",
    "\n",
    "\n",
    "    class A         class B\n",
    "       ^                ^\n",
    "        \\              /\n",
    "         \\            /\n",
    "            class C"
   ]
  },
  {
   "cell_type": "code",
   "execution_count": null,
   "id": "e156ac0b",
   "metadata": {},
   "outputs": [],
   "source": []
  },
  {
   "cell_type": "markdown",
   "id": "a83e4640",
   "metadata": {},
   "source": [
    "## single inheritance:"
   ]
  },
  {
   "cell_type": "code",
   "execution_count": 3,
   "id": "2829f205",
   "metadata": {},
   "outputs": [
    {
     "name": "stdout",
     "output_type": "stream",
     "text": [
      "This is child class\n",
      "this is parent class\n"
     ]
    }
   ],
   "source": [
    "## parent class or base class are same (should think that way):\n",
    "# self keyword is must inside classes\n",
    "## object should always created to child bcs he has all properties\n",
    "class Parent():\n",
    "    def fun1(self):\n",
    "        print(\"this is parent class\")\n",
    "        \n",
    "class Child(Parent): # all from parent comes to child  ## should remember this line in single inheritance\n",
    "    def fun2(self):\n",
    "        print(\"This is child class\")\n",
    "        \n",
    "obj=Child()\n",
    "obj.fun2()\n",
    "obj.fun1() #inherit because child has right of parents class"
   ]
  },
  {
   "cell_type": "code",
   "execution_count": null,
   "id": "f41db053",
   "metadata": {},
   "outputs": [],
   "source": []
  },
  {
   "cell_type": "markdown",
   "id": "4793313d",
   "metadata": {},
   "source": [
    "## Multilevel inheritance:"
   ]
  },
  {
   "cell_type": "code",
   "execution_count": 4,
   "id": "7955adbc",
   "metadata": {},
   "outputs": [
    {
     "name": "stdout",
     "output_type": "stream",
     "text": [
      "this is parent class\n"
     ]
    }
   ],
   "source": [
    "class Parent():\n",
    "    def fun1(self):\n",
    "        print(\"this is parent class\")\n",
    "        \n",
    "class Child(Parent): # all from parent comes to child  ## should remember this line in single inheritance\n",
    "    def fun2(self):\n",
    "        print(\"This is child class\")\n",
    "        \n",
    "class GrandChild(Child): # all from Child comes to Grandchild  ## should remember this line in single inheritance\n",
    "    def fun3(self):\n",
    "        print(\"This is Grandchild class\")\n",
    "        \n",
    "obj=GrandChild()\n",
    "obj.fun1() # grand child has access for parent property"
   ]
  },
  {
   "cell_type": "code",
   "execution_count": 5,
   "id": "25b05582",
   "metadata": {},
   "outputs": [
    {
     "name": "stdout",
     "output_type": "stream",
     "text": [
      "this is parent class\n",
      "This is child class\n",
      "This is Grandchild class\n"
     ]
    }
   ],
   "source": [
    "class Parent():\n",
    "    def fun1(self):\n",
    "        print(\"this is parent class\")\n",
    "        \n",
    "class Child(Parent): # all from parent comes to child  ## should remember this line in single inheritance\n",
    "    def fun2(self):\n",
    "        print(\"This is child class\")\n",
    "        \n",
    "class GrandChild(Child): # all from Child comes to Grandchild  ## should remember this line in single inheritance\n",
    "    def fun3(self):\n",
    "        print(\"This is Grandchild class\")\n",
    "        \n",
    "obj=GrandChild()\n",
    "obj.fun1()\n",
    "obj.fun2()\n",
    "obj.fun3()"
   ]
  },
  {
   "cell_type": "code",
   "execution_count": null,
   "id": "2724c59d",
   "metadata": {},
   "outputs": [],
   "source": []
  },
  {
   "cell_type": "markdown",
   "id": "674efd1b",
   "metadata": {},
   "source": [
    "## Hierarichal Inheritance"
   ]
  },
  {
   "cell_type": "code",
   "execution_count": 6,
   "id": "389193ab",
   "metadata": {},
   "outputs": [
    {
     "name": "stdout",
     "output_type": "stream",
     "text": [
      "this is parent class\n"
     ]
    },
    {
     "ename": "AttributeError",
     "evalue": "'Child2' object has no attribute 'fun2'",
     "output_type": "error",
     "traceback": [
      "\u001b[1;31m---------------------------------------------------------------------------\u001b[0m",
      "\u001b[1;31mAttributeError\u001b[0m                            Traceback (most recent call last)",
      "\u001b[1;32m~\\AppData\\Local\\Temp/ipykernel_988/1050173853.py\u001b[0m in \u001b[0;36m<module>\u001b[1;34m\u001b[0m\n\u001b[0;32m     13\u001b[0m \u001b[0mobj\u001b[0m\u001b[1;33m=\u001b[0m\u001b[0mChild2\u001b[0m\u001b[1;33m(\u001b[0m\u001b[1;33m)\u001b[0m\u001b[1;33m\u001b[0m\u001b[1;33m\u001b[0m\u001b[0m\n\u001b[0;32m     14\u001b[0m \u001b[0mobj\u001b[0m\u001b[1;33m.\u001b[0m\u001b[0mfun1\u001b[0m\u001b[1;33m(\u001b[0m\u001b[1;33m)\u001b[0m\u001b[1;33m\u001b[0m\u001b[1;33m\u001b[0m\u001b[0m\n\u001b[1;32m---> 15\u001b[1;33m \u001b[0mobj\u001b[0m\u001b[1;33m.\u001b[0m\u001b[0mfun2\u001b[0m\u001b[1;33m(\u001b[0m\u001b[1;33m)\u001b[0m\u001b[1;33m\u001b[0m\u001b[1;33m\u001b[0m\u001b[0m\n\u001b[0m\u001b[0;32m     16\u001b[0m \u001b[0mobj\u001b[0m\u001b[1;33m.\u001b[0m\u001b[0mfun3\u001b[0m\u001b[1;33m(\u001b[0m\u001b[1;33m)\u001b[0m\u001b[1;33m\u001b[0m\u001b[1;33m\u001b[0m\u001b[0m\n",
      "\u001b[1;31mAttributeError\u001b[0m: 'Child2' object has no attribute 'fun2'"
     ]
    }
   ],
   "source": [
    "class Parent():\n",
    "    def fun1(self):\n",
    "        print(\"this is parent class\")\n",
    "        \n",
    "class Child1(Parent): # all from parent comes to child  ## should remember this line in single inheritance\n",
    "    def fun2(self):\n",
    "        print(\"This is child1 class\")\n",
    "        \n",
    "class Child2(Parent): # all from Child comes to Grandchild  ## should remember this line in single inheritance\n",
    "    def fun3(self):\n",
    "        print(\"This is Child2 class\")\n",
    "        \n",
    "obj=Child2()\n",
    "obj.fun1()\n",
    "obj.fun2() # can't inherit because its not the parent\n",
    "obj.fun3()"
   ]
  },
  {
   "cell_type": "code",
   "execution_count": 7,
   "id": "3d018761",
   "metadata": {},
   "outputs": [
    {
     "name": "stdout",
     "output_type": "stream",
     "text": [
      "this is parent class\n",
      "This is Child2 class\n"
     ]
    }
   ],
   "source": [
    "class Parent():\n",
    "    def fun1(self):\n",
    "        print(\"this is parent class\")\n",
    "        \n",
    "class Child1(Parent): # all from parent comes to child  ## should remember this line in single inheritance\n",
    "    def fun2(self):\n",
    "        print(\"This is child1 class\")\n",
    "        \n",
    "class Child2(Parent): # all from Child comes to Grandchild  ## should remember this line in single inheritance\n",
    "    def fun3(self):\n",
    "        print(\"This is Child2 class\")\n",
    "        \n",
    "obj=Child2()\n",
    "obj.fun1()\n",
    "# obj.fun2() # can't inherit because its not the parent\n",
    "obj.fun3()"
   ]
  },
  {
   "cell_type": "code",
   "execution_count": 8,
   "id": "43faf630",
   "metadata": {},
   "outputs": [
    {
     "name": "stdout",
     "output_type": "stream",
     "text": [
      "this is parent class\n",
      "This is Child2 class\n"
     ]
    }
   ],
   "source": [
    "class Parent():\n",
    "    def fun1(self):\n",
    "        print(\"this is parent class\")\n",
    "        \n",
    "class Child1(Parent): # all from parent comes to child  ## should remember this line in single inheritance\n",
    "    def fun2(self):\n",
    "        print(\"This is child1 class\")\n",
    "        \n",
    "class Child2(Parent): # all from Child comes to Grandchild  ## should remember this line in single inheritance\n",
    "    def fun3(self):\n",
    "        print(\"This is Child2 class\")\n",
    "        \n",
    "obj=Child2()\n",
    "obj.fun1()\n",
    "# obj.fun2() # can't inherit because its not the parent\n",
    "obj.fun3()\n",
    "\n",
    "# for accessing func1 we need to create object for child1"
   ]
  },
  {
   "cell_type": "code",
   "execution_count": null,
   "id": "2543d1ef",
   "metadata": {},
   "outputs": [],
   "source": []
  },
  {
   "cell_type": "markdown",
   "id": "6333602e",
   "metadata": {},
   "source": [
    "## multiple Inheritance:"
   ]
  },
  {
   "cell_type": "code",
   "execution_count": 13,
   "id": "806b4cb0",
   "metadata": {},
   "outputs": [
    {
     "name": "stdout",
     "output_type": "stream",
     "text": [
      "this is Father class\n",
      "This is Mother class\n",
      "This is Child class\n"
     ]
    }
   ],
   "source": [
    "class Father:\n",
    "    def fun1(self):\n",
    "        print(\"this is Father class\")\n",
    "        \n",
    "class Mother: # all from parent comes to child  ## should remember this line in single inheritance\n",
    "    def fun2(self):\n",
    "        print(\"This is Mother class\")\n",
    "        \n",
    "class Child(Father,Mother): # all from Child comes to Grandchild  ## should remember this line in single inheritance\n",
    "    def fun3(self):\n",
    "        print(\"This is Child class\")\n",
    "        \n",
    "obj=Child()\n",
    "obj.fun1()\n",
    "obj.fun2() # can't inherit because its not the parent\n",
    "obj.fun3()\n"
   ]
  },
  {
   "cell_type": "code",
   "execution_count": null,
   "id": "41fb9ac3",
   "metadata": {},
   "outputs": [],
   "source": []
  },
  {
   "cell_type": "markdown",
   "id": "a97ebac8",
   "metadata": {},
   "source": [
    "## Super Keyword:"
   ]
  },
  {
   "cell_type": "code",
   "execution_count": 14,
   "id": "ec3bd48b",
   "metadata": {},
   "outputs": [
    {
     "name": "stdout",
     "output_type": "stream",
     "text": [
      "This is class B\n"
     ]
    }
   ],
   "source": [
    "class A:\n",
    "    def __init__(self):\n",
    "        print(\"This is class A\")\n",
    "    def fun1(self):\n",
    "        print(\"this is Father class\")\n",
    "        \n",
    "class B(A):# inheriting class A \n",
    "    def __init__(self):\n",
    "        print(\"This is class B\")\n",
    "    def fun2(self): \n",
    "        print(\"This is Mother class\")\n",
    "obj=B()\n",
    "## only class B came after inheriting"
   ]
  },
  {
   "cell_type": "code",
   "execution_count": 1,
   "id": "0b411607",
   "metadata": {},
   "outputs": [
    {
     "name": "stdout",
     "output_type": "stream",
     "text": [
      "This is class B\n",
      "This is class A\n"
     ]
    }
   ],
   "source": [
    "class A:\n",
    "    def __init__(self):\n",
    "        print(\"This is class A\")\n",
    "    def fun1(self):\n",
    "        print(\"this is Father class\")\n",
    "        \n",
    "class B(A):# inheriting class A \n",
    "    def __init__(self):\n",
    "        print(\"This is class B\")\n",
    "        super().__init__()\n",
    "    def fun2(self):\n",
    "        print(\"This is Mother class\")\n",
    "obj=B()\n",
    "\n",
    "## only class B came after inheriting, to get class A also super keyword helps.\n",
    "\n",
    "## with help of super keyword we can access from parent class."
   ]
  },
  {
   "cell_type": "code",
   "execution_count": 17,
   "id": "8a68ba91",
   "metadata": {},
   "outputs": [
    {
     "name": "stdout",
     "output_type": "stream",
     "text": [
      "This is class B\n",
      "this is Father class\n"
     ]
    }
   ],
   "source": [
    "class A:\n",
    "    def __init__(self):\n",
    "        print(\"This is class A\")\n",
    "    def fun1(self):\n",
    "        print(\"this is Father class\")\n",
    "        \n",
    "class B(A):# inheriting class A \n",
    "    def __init__(self):\n",
    "        print(\"This is class B\")\n",
    "        super().fun1()\n",
    "    def fun2(self):\n",
    "        print(\"This is Mother class\")\n",
    "obj=B()\n",
    "\n",
    "## only class B came after inheriting, to get class A also super keyword helps.\n",
    "\n",
    "## with help of super keyword we can access from parent class."
   ]
  },
  {
   "cell_type": "code",
   "execution_count": null,
   "id": "de8d63b2",
   "metadata": {},
   "outputs": [],
   "source": []
  }
 ],
 "metadata": {
  "kernelspec": {
   "display_name": "Python 3 (ipykernel)",
   "language": "python",
   "name": "python3"
  },
  "language_info": {
   "codemirror_mode": {
    "name": "ipython",
    "version": 3
   },
   "file_extension": ".py",
   "mimetype": "text/x-python",
   "name": "python",
   "nbconvert_exporter": "python",
   "pygments_lexer": "ipython3",
   "version": "3.9.12"
  },
  "toc": {
   "base_numbering": 1,
   "nav_menu": {},
   "number_sections": true,
   "sideBar": true,
   "skip_h1_title": false,
   "title_cell": "Table of Contents",
   "title_sidebar": "Contents",
   "toc_cell": false,
   "toc_position": {},
   "toc_section_display": true,
   "toc_window_display": false
  }
 },
 "nbformat": 4,
 "nbformat_minor": 5
}
