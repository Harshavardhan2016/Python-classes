{
 "cells": [
  {
   "cell_type": "markdown",
   "id": "e049bd5e",
   "metadata": {},
   "source": [
    "## Abstraction"
   ]
  },
  {
   "cell_type": "raw",
   "id": "2aa71a2f",
   "metadata": {},
   "source": [
    "Abstraction --> called as hiding of data\n",
    "\n",
    "shows output but not internal functions(internal functionality is not shown they will be hidden)"
   ]
  },
  {
   "cell_type": "raw",
   "id": "d9e5a623",
   "metadata": {},
   "source": [
    "for example in car we can see brakes, horn etc but not internal works are shown (they are hidden so its concept of abstraction)"
   ]
  },
  {
   "cell_type": "code",
   "execution_count": null,
   "id": "6229cb62",
   "metadata": {},
   "outputs": [],
   "source": []
  },
  {
   "cell_type": "markdown",
   "id": "79d6a974",
   "metadata": {},
   "source": [
    "## Encapsulation"
   ]
  },
  {
   "cell_type": "raw",
   "id": "2542ed2d",
   "metadata": {},
   "source": [
    "Encapsulation --> binding of data members and member functions.\n",
    "\n",
    "variables and functions are in classes, for binding them(unit) is called encapsulation"
   ]
  },
  {
   "cell_type": "raw",
   "id": "288b2403",
   "metadata": {},
   "source": [
    "you know capsule right,...\n",
    "if we sub-divide, if variable and method bind together then capsule forms, this conceopt is called encapsulation."
   ]
  },
  {
   "cell_type": "code",
   "execution_count": null,
   "id": "e99fec7f",
   "metadata": {},
   "outputs": [],
   "source": []
  },
  {
   "cell_type": "code",
   "execution_count": null,
   "id": "718d5af7",
   "metadata": {},
   "outputs": [],
   "source": []
  }
 ],
 "metadata": {
  "kernelspec": {
   "display_name": "Python 3 (ipykernel)",
   "language": "python",
   "name": "python3"
  },
  "language_info": {
   "codemirror_mode": {
    "name": "ipython",
    "version": 3
   },
   "file_extension": ".py",
   "mimetype": "text/x-python",
   "name": "python",
   "nbconvert_exporter": "python",
   "pygments_lexer": "ipython3",
   "version": "3.9.12"
  },
  "toc": {
   "base_numbering": 1,
   "nav_menu": {},
   "number_sections": true,
   "sideBar": true,
   "skip_h1_title": false,
   "title_cell": "Table of Contents",
   "title_sidebar": "Contents",
   "toc_cell": false,
   "toc_position": {},
   "toc_section_display": true,
   "toc_window_display": false
  }
 },
 "nbformat": 4,
 "nbformat_minor": 5
}
